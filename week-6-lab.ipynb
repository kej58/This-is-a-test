{
 "cells": [
  {
   "cell_type": "markdown",
   "metadata": {},
   "source": [
    "## Week 6 Lab"
   ]
  },
  {
   "cell_type": "markdown",
   "metadata": {},
   "source": [
    "* The purpose of this code is to create a simple **chat box** for the students "
   ]
  },
  {
   "cell_type": "markdown",
   "metadata": {},
   "source": [
    "![let's go](https://media.giphy.com/media/RrVzUOXldFe8M/giphy.gif)\n"
   ]
  },
  {
   "cell_type": "code",
   "execution_count": null,
   "metadata": {},
   "outputs": [
    {
     "name": "stdout",
     "output_type": "stream",
     "text": [
      "Hello!\n"
     ]
    }
   ],
   "source": [
    "print(\"Hello!\")\n",
    "name = str(input(\"What is your name?\\n\"))\n",
    "age = int(input(\"What is you age?\\n\"))\n",
    "\n",
    "if age >= 18:\n",
    "    q1 = str(input(\"Are you a college student?\\n\"))\n",
    "    if q1 == \"yes\":\n",
    "        stud = str(input(\"Are you a freshmen, sophomore, junior or senior?\\n\"))\n",
    "        if stud == \"freshmen\":\n",
    "            print(\"Welcome to college!\")\n",
    "        elif stud == \"sophomore\":\n",
    "            q1 = str(input(\"Have you choose your major yet?\\n\"))\n",
    "            if q1 == \"no\":\n",
    "                print(\"It's ok you got time!\")\n",
    "            else:\n",
    "                print(\"Hope you like your major\")\n",
    "        elif stud == \"junior\":\n",
    "            print(\"What else can I say, hope we can survive through this!\")\n",
    "        else:\n",
    "            print(name, \"you are only one step toward the graduation, you can do this!\")\n",
    "    else:\n",
    "        print(\"No matter what are you doing now, enjoy your day!\")\n",
    "\n",
    "elif age <= 17:\n",
    "    q3 = str(input(\"Are you a high school student?\\n\"))\n",
    "    if q3 == \"yes\":\n",
    "        stud2 = str(input(\"Are you a freshmen, sophomore, junior or senior?\\n\"))\n",
    "        if stud2 == \"freshmen\":\n",
    "            print(\"There is a long way to go...\")\n",
    "        elif stud2 == \"sophomore\":\n",
    "            q2 = str(input(\"Did you take psat yet?\\n\"))\n",
    "            if q2 == \"yes\":\n",
    "                print(\"You must done it so well, aren't you.\")\n",
    "            else:\n",
    "                print(\"Congratulations, you survive!\")\n",
    "\n",
    "        elif stud2 == \"junior\":\n",
    "            print(\"Good luck on your SAT or ACT, that's all I can say.\")\n",
    "        else:\n",
    "            print(name, \"you are only one step toward the graduation, you can do this!\")\n",
    "else:\n",
    "    print(name, \"Enjoy your day!\")\n"
   ]
  },
  {
   "cell_type": "markdown",
   "metadata": {},
   "source": [
    "![typing](https://media.giphy.com/media/QNFhOolVeCzPQ2Mx85/giphy.gif)"
   ]
  }
 ],
 "metadata": {
  "kernelspec": {
   "display_name": "Python 3",
   "language": "python",
   "name": "python3"
  },
  "language_info": {
   "codemirror_mode": {
    "name": "ipython",
    "version": 3
   },
   "file_extension": ".py",
   "mimetype": "text/x-python",
   "name": "python",
   "nbconvert_exporter": "python",
   "pygments_lexer": "ipython3",
   "version": "3.8.3"
  }
 },
 "nbformat": 4,
 "nbformat_minor": 4
}
